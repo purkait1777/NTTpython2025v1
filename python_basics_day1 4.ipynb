{
  "nbformat": 4,
  "nbformat_minor": 0,
  "metadata": {
    "colab": {
      "provenance": []
    },
    "kernelspec": {
      "name": "python3",
      "display_name": "Python 3"
    },
    "language_info": {
      "name": "python"
    }
  },
  "cells": [
    {
      "cell_type": "code",
      "execution_count": null,
      "metadata": {
        "colab": {
          "base_uri": "https://localhost:8080/"
        },
        "id": "fooBKl8FmcO4",
        "outputId": "3ea51a02-6b31-4a8e-fc8a-7c4debba94fe"
      },
      "outputs": [
        {
          "output_type": "stream",
          "name": "stdout",
          "text": [
            "welcome to Python world\n"
          ]
        }
      ],
      "source": [
        "print(\"welcome to Python world\")"
      ]
    },
    {
      "cell_type": "code",
      "source": [
        "a='py'\n",
        "b='thon2'\n",
        "c=a+b\n",
        "print(c)"
      ],
      "metadata": {
        "colab": {
          "base_uri": "https://localhost:8080/"
        },
        "id": "456iibnZml4b",
        "outputId": "1b767e87-26bb-43cd-925c-b0d5de6b7e14"
      },
      "execution_count": null,
      "outputs": [
        {
          "output_type": "stream",
          "name": "stdout",
          "text": [
            "python2\n"
          ]
        }
      ]
    },
    {
      "cell_type": "code",
      "source": [],
      "metadata": {
        "id": "256nELgAxA2P"
      },
      "execution_count": null,
      "outputs": []
    },
    {
      "cell_type": "code",
      "source": [
        "a,b=0,1\n",
        "while a<10:\n",
        "  print(a, end=',')\n",
        "  a,b=b,a+b\n"
      ],
      "metadata": {
        "id": "G3BCOPFORtDr",
        "outputId": "04151828-2ec4-4c87-efbd-757cd7b577e8",
        "colab": {
          "base_uri": "https://localhost:8080/"
        }
      },
      "execution_count": null,
      "outputs": [
        {
          "output_type": "stream",
          "name": "stdout",
          "text": [
            "0,1,1,2,3,5,8,"
          ]
        }
      ]
    },
    {
      "cell_type": "code",
      "source": [
        "x=int(input(\"enter a number\"))\n",
        "if x<0:\n",
        "  print(\"Negative number\")\n",
        "elif x>0:\n",
        "  print(\"Positive Number\")\n",
        "else:\n",
        "  print(\"Zero\")\n",
        "\n"
      ],
      "metadata": {
        "id": "KUbd3inaTnK6",
        "outputId": "21ff99c3-bf57-4d72-8454-03b6a5a0d6e3",
        "colab": {
          "base_uri": "https://localhost:8080/"
        }
      },
      "execution_count": null,
      "outputs": [
        {
          "output_type": "stream",
          "name": "stdout",
          "text": [
            "enter a number-5\n",
            "Negative number\n"
          ]
        }
      ]
    },
    {
      "cell_type": "code",
      "source": [
        "for n in range(2, 10):\n",
        "    for x in range(2, n):\n",
        "        if n % x == 0:\n",
        "            print(f\"{n} equals {x} * {n//x}\")\n",
        "            break\n"
      ],
      "metadata": {
        "id": "vok4WVBdWGJ3",
        "outputId": "2622c25d-b296-43b0-d697-0c196e816242",
        "colab": {
          "base_uri": "https://localhost:8080/"
        }
      },
      "execution_count": null,
      "outputs": [
        {
          "output_type": "stream",
          "name": "stdout",
          "text": [
            "4 equals 2 * 2\n",
            "6 equals 2 * 3\n",
            "8 equals 2 * 4\n",
            "9 equals 3 * 3\n"
          ]
        }
      ]
    },
    {
      "cell_type": "code",
      "source": [
        "list(range(2,3))"
      ],
      "metadata": {
        "id": "qTHyHXhcbjES",
        "outputId": "2798f920-48e0-438c-dc30-06f3bb77898a",
        "colab": {
          "base_uri": "https://localhost:8080/"
        }
      },
      "execution_count": null,
      "outputs": [
        {
          "output_type": "execute_result",
          "data": {
            "text/plain": [
              "[2]"
            ]
          },
          "metadata": {},
          "execution_count": 26
        }
      ]
    },
    {
      "cell_type": "code",
      "source": [
        "words=['ball','bat','wicket']\n",
        "words.append('run')\n",
        "print(words)\n",
        "words.insert(2,'run')\n",
        "print(words)\n",
        "words.remove('run')\n",
        "print(words)\n",
        "words.remove('run')\n",
        "print(words)\n"
      ],
      "metadata": {
        "colab": {
          "base_uri": "https://localhost:8080/"
        },
        "id": "bSaOXCvekg4F",
        "outputId": "089e2813-fd19-4d6d-ae59-54336ef4647e"
      },
      "execution_count": null,
      "outputs": [
        {
          "output_type": "stream",
          "name": "stdout",
          "text": [
            "['ball', 'bat', 'wicket', 'run']\n",
            "['ball', 'bat', 'run', 'wicket', 'run']\n",
            "['ball', 'bat', 'wicket', 'run']\n",
            "['ball', 'bat', 'wicket']\n"
          ]
        }
      ]
    },
    {
      "cell_type": "code",
      "source": [
        "for n in range(2, 10):\n",
        "  for x in range(2, n):\n",
        "    if n % x == 0:\n",
        "      print(n, 'equals', x, '*', n//x)\n",
        "      break\n",
        "    else:\n",
        "      # loop fell through without finding a factor\n",
        "      print(n, 'is a prime number')\n",
        "      break;\n",
        "\n"
      ],
      "metadata": {
        "colab": {
          "base_uri": "https://localhost:8080/"
        },
        "id": "E3CPNrgym1Bn",
        "outputId": "4ce6bd65-26da-4e7b-d5eb-17e3fcd655c4"
      },
      "execution_count": null,
      "outputs": [
        {
          "output_type": "stream",
          "name": "stdout",
          "text": [
            "3 is a prime number\n",
            "4 equals 2 * 2\n",
            "5 is a prime number\n",
            "5 is a prime number\n",
            "5 is a prime number\n",
            "6 equals 2 * 3\n",
            "7 is a prime number\n",
            "7 is a prime number\n",
            "7 is a prime number\n",
            "7 is a prime number\n",
            "7 is a prime number\n",
            "8 equals 2 * 4\n",
            "9 is a prime number\n",
            "9 equals 3 * 3\n"
          ]
        }
      ]
    },
    {
      "cell_type": "code",
      "source": [
        "for n in range(2, 10):\n",
        "  for x in range(2, n):\n",
        "    if n % x == 0:\n",
        "      print(n, 'equals', x, '*', n//x)\n",
        "      break\n",
        "    else:\n",
        "      # loop fell through without finding a factor\n",
        "      print(n, 'is a prime number')\n",
        "      break;"
      ],
      "metadata": {
        "colab": {
          "base_uri": "https://localhost:8080/"
        },
        "id": "kO6HJCIEyosh",
        "outputId": "550f4ead-186b-445a-c8c7-1832e14fd03b"
      },
      "execution_count": null,
      "outputs": [
        {
          "output_type": "stream",
          "name": "stdout",
          "text": [
            "3 is a prime number\n",
            "4 equals 2 * 2\n",
            "5 is a prime number\n",
            "6 equals 2 * 3\n",
            "7 is a prime number\n",
            "8 equals 2 * 4\n",
            "9 is a prime number\n"
          ]
        }
      ]
    },
    {
      "cell_type": "code",
      "source": [
        "for num in range(1,5):\n",
        "  odd_flag=0\n",
        "  for i in range(2,num):\n",
        "    if num % i == 0:\n",
        "      print(\"composite number\", num)\n",
        "      odd_flag=1\n",
        "      break;\n",
        "\n",
        "  if odd_flag==0:\n",
        "    print('    prime number',num)\n",
        "\n"
      ],
      "metadata": {
        "colab": {
          "base_uri": "https://localhost:8080/"
        },
        "id": "QhWN814r6xGr",
        "outputId": "d028d008-101d-4916-e28f-d06512326d79"
      },
      "execution_count": null,
      "outputs": [
        {
          "output_type": "stream",
          "name": "stdout",
          "text": [
            "    prime number 1\n",
            "    prime number 2\n",
            "    prime number 3\n",
            "composite number 4\n"
          ]
        }
      ]
    },
    {
      "cell_type": "code",
      "source": [
        "def fib(n): # write Fibonacci series up to n\n",
        "    \"\"\"Print a Fibonacci series up to n.\"\"\"\n",
        "    a, b = 0, 1\n",
        "    while a < n:\n",
        "        print(a, end=', ')\n",
        "        a, b = b, a+b\n",
        "    ##print()\n",
        "\n",
        "fib(500)"
      ],
      "metadata": {
        "colab": {
          "base_uri": "https://localhost:8080/"
        },
        "id": "uaPmD5k32V_M",
        "outputId": "7ccf14cc-0d68-40fe-f235-13e51fee7266"
      },
      "execution_count": null,
      "outputs": [
        {
          "output_type": "stream",
          "name": "stdout",
          "text": [
            "0, 1, 1, 2, 3, 5, 8, 13, 21, 34, 55, 89, 144, 233, 377, "
          ]
        }
      ]
    },
    {
      "cell_type": "code",
      "source": [
        "print(list(range(5)))"
      ],
      "metadata": {
        "colab": {
          "base_uri": "https://localhost:8080/"
        },
        "id": "KjJZ-mhRoFJm",
        "outputId": "7070f50f-02eb-41e7-95f9-ede3177f26a9"
      },
      "execution_count": null,
      "outputs": [
        {
          "output_type": "stream",
          "name": "stdout",
          "text": [
            "[0, 1, 2, 3, 4]\n"
          ]
        }
      ]
    },
    {
      "cell_type": "code",
      "source": [
        "a=['cat', 'bat', 'hat']\n",
        "b=['fat', 'mat']\n",
        "a.append('rat')\n",
        "a.extend(b)\n",
        "print(a)\n",
        "#a.reverse()\n",
        "a.sort()\n",
        "print(a)"
      ],
      "metadata": {
        "colab": {
          "base_uri": "https://localhost:8080/"
        },
        "id": "7Ym2pB_tlPzF",
        "outputId": "6e6c72e4-e33f-4749-fe59-de3ef1b0f264"
      },
      "execution_count": null,
      "outputs": [
        {
          "output_type": "stream",
          "name": "stdout",
          "text": [
            "['cat', 'bat', 'hat', 'rat', 'fat', 'mat']\n",
            "['bat', 'cat', 'fat', 'hat', 'mat', 'rat']\n"
          ]
        }
      ]
    },
    {
      "cell_type": "code",
      "source": [
        "stack=['a', 'b', 'c']\n",
        "stack.append('d')\n",
        "stack.append('e')\n",
        "stack.pop()\n",
        "print(stack)\n",
        "print(stack.pop())\n",
        "stack"
      ],
      "metadata": {
        "id": "EAw6cPAqWUPr",
        "outputId": "33dfabf3-ccf8-4506-c2c1-5ab9eeeea32a",
        "colab": {
          "base_uri": "https://localhost:8080/"
        }
      },
      "execution_count": null,
      "outputs": [
        {
          "output_type": "stream",
          "name": "stdout",
          "text": [
            "['a', 'b', 'c', 'd']\n",
            "d\n"
          ]
        },
        {
          "output_type": "execute_result",
          "data": {
            "text/plain": [
              "['a', 'b', 'c']"
            ]
          },
          "metadata": {},
          "execution_count": 11
        }
      ]
    },
    {
      "cell_type": "code",
      "source": [
        "for x in [4,0,93]:\n",
        "    print(x)\n"
      ],
      "metadata": {
        "id": "EPNCSqU6c8Bs",
        "outputId": "6a1cb2a4-eaa8-4d38-8d98-bd2c8d40cac8",
        "colab": {
          "base_uri": "https://localhost:8080/"
        }
      },
      "execution_count": null,
      "outputs": [
        {
          "output_type": "stream",
          "name": "stdout",
          "text": [
            "4\n",
            "0\n",
            "93\n"
          ]
        }
      ]
    },
    {
      "cell_type": "code",
      "source": [
        "matrix = [\n",
        "          [1, 2, 3, 4],\n",
        "          [5, 6, 7, 8],\n",
        "         ]\n",
        "\n",
        "\n",
        "transpose = [[matrix[j][i]\n",
        "           for j in range(len(matrix))] for i in range(len(matrix[0]))]\n",
        "\n",
        "print(transpose)\n",
        "\n",
        "\n",
        "\n",
        "\n"
      ],
      "metadata": {
        "id": "k9j5QEK22HFS",
        "outputId": "7735188e-ac18-4649-c159-4b662ecf1765",
        "colab": {
          "base_uri": "https://localhost:8080/"
        }
      },
      "execution_count": null,
      "outputs": [
        {
          "output_type": "stream",
          "name": "stdout",
          "text": [
            "[[1, 5], [2, 6], [3, 7], [4, 8]]\n"
          ]
        }
      ]
    },
    {
      "cell_type": "code",
      "source": [
        "import numpy\n",
        "\n",
        "A = [\n",
        "    [1, 2, 3, 4],\n",
        "    [5, 6, 7, 8],\n",
        "    ]\n",
        "\n",
        "print(numpy.transpose(A))"
      ],
      "metadata": {
        "id": "NhJ04jUJCvCd",
        "outputId": "edf3c674-a81f-449a-d003-a36c05900f07",
        "colab": {
          "base_uri": "https://localhost:8080/"
        }
      },
      "execution_count": null,
      "outputs": [
        {
          "output_type": "stream",
          "name": "stdout",
          "text": [
            "[[1 5]\n",
            " [2 6]\n",
            " [3 7]\n",
            " [4 8]]\n"
          ]
        }
      ]
    },
    {
      "cell_type": "code",
      "source": [
        "t1=(555, 777, 'partha')\n",
        "t2=555, 777, 'partha'\n",
        "if t1==t2:\n",
        "  print(\"same\")\n",
        "else:\n",
        "  print(\"not same\")\n",
        "\n"
      ],
      "metadata": {
        "id": "km2-Rr4n8oDz",
        "outputId": "afea52c3-8d35-4c75-ea7d-29a088b4309d",
        "colab": {
          "base_uri": "https://localhost:8080/"
        }
      },
      "execution_count": null,
      "outputs": [
        {
          "output_type": "stream",
          "name": "stdout",
          "text": [
            "same\n"
          ]
        }
      ]
    },
    {
      "cell_type": "code",
      "source": [],
      "metadata": {
        "id": "3KZRd9mj-CIT"
      },
      "execution_count": null,
      "outputs": []
    },
    {
      "cell_type": "code",
      "source": [
        "#file handling in python\n",
        "f = open(r\"C:\\Users\\246930\\others\\Study\\python\\mytestfile.txt\", \"x\")\n",
        "print(f)"
      ],
      "metadata": {
        "colab": {
          "base_uri": "https://localhost:8080/",
          "height": 124
        },
        "id": "eYjqB4TGqgA7",
        "outputId": "2cdfa4bf-4cea-4739-e02e-0dc4d304d7b6"
      },
      "execution_count": null,
      "outputs": [
        {
          "output_type": "error",
          "ename": "SyntaxError",
          "evalue": "(unicode error) 'unicodeescape' codec can't decode bytes in position 2-3: truncated \\UXXXXXXXX escape (<ipython-input-7-19aebdd337b5>, line 2)",
          "traceback": [
            "\u001b[0;36m  File \u001b[0;32m\"<ipython-input-7-19aebdd337b5>\"\u001b[0;36m, line \u001b[0;32m2\u001b[0m\n\u001b[0;31m    f = open(\"C:\\Users\\246930\\others\\Study\\python\\mytestfile.txt\", \"x\")\u001b[0m\n\u001b[0m                                                                 ^\u001b[0m\n\u001b[0;31mSyntaxError\u001b[0m\u001b[0;31m:\u001b[0m (unicode error) 'unicodeescape' codec can't decode bytes in position 2-3: truncated \\UXXXXXXXX escape\n"
          ]
        }
      ]
    },
    {
      "cell_type": "code",
      "source": [
        "#file handling in python\n",
        "f = open(\"mytestfile.txt\", \"x\")\n",
        "f.close()\n"
      ],
      "metadata": {
        "id": "FKqTiBsVwAYM"
      },
      "execution_count": null,
      "outputs": []
    },
    {
      "cell_type": "code",
      "source": [
        "#file handling in python\n",
        "f = open(\"mytestfile.txt\", \"r+\")\n",
        "l = [\"This is Lagos \\n\",\"This is Python \\n\",\"This is Fcc \\n\"]\n",
        "f.writelines(l)\n",
        "f.seek(0)  # Reset file pointer to the beginning\n",
        "x=f.readlines()\n",
        "print(x)\n",
        "print(\"File's content :\")\n",
        "f.seek(0)  # Reset file pointer to the beginning\n",
        "print(f.read())\n",
        "f.close()\n",
        "\n"
      ],
      "metadata": {
        "colab": {
          "base_uri": "https://localhost:8080/"
        },
        "id": "wGypncQCy2lD",
        "outputId": "9a32e632-b8b0-4e32-826f-2e9b23138789"
      },
      "execution_count": null,
      "outputs": [
        {
          "output_type": "stream",
          "name": "stdout",
          "text": [
            "['This is Lagos \\n', 'This is Python \\n', 'This is Fcc \\n']\n",
            "File's content :\n",
            "This is Lagos \n",
            "This is Python \n",
            "This is Fcc \n",
            "\n"
          ]
        }
      ]
    },
    {
      "cell_type": "code",
      "source": [
        "#file handling in python\n",
        "f = open(\"mytestfile.txt\", \"r+\")\n",
        "#f.write(\"This is another new line.\")\n",
        "print(f.read())\n",
        "f.close()"
      ],
      "metadata": {
        "colab": {
          "base_uri": "https://localhost:8080/"
        },
        "id": "DH0b7bmwz0os",
        "outputId": "77d66c62-8718-4586-b5bc-1b65113c9dac"
      },
      "execution_count": null,
      "outputs": [
        {
          "output_type": "stream",
          "name": "stdout",
          "text": [
            "This is Lagos \n",
            "This is Python \n",
            "This is Fcc \n",
            "\n"
          ]
        }
      ]
    },
    {
      "source": [
        "import os\n",
        "print(os.getcwd())\n",
        "os.remove(\"mytestfile.txt\")"
      ],
      "cell_type": "code",
      "metadata": {
        "colab": {
          "base_uri": "https://localhost:8080/"
        },
        "id": "OHxt0ww1uwQJ",
        "outputId": "d84570e5-1485-405e-dfc5-9710405ee01e"
      },
      "execution_count": null,
      "outputs": [
        {
          "output_type": "stream",
          "name": "stdout",
          "text": [
            "/content\n"
          ]
        }
      ]
    },
    {
      "cell_type": "code",
      "source": [
        "import json\n",
        "var = {\n",
        "      \"Subjects\": {\n",
        "                  \"Maths\":85,\n",
        "                  \"Physics\":90\n",
        "                   }\n",
        "      }\n",
        "print(var)\n",
        "\n",
        "with open(\"Sample.json\", \"w\") as p:\n",
        "     json.dump(var, p)\n",
        "\n",
        "with open(\"Sample.json\", \"r\") as read_it:\n",
        "     data = json.load(read_it)\n",
        "\n",
        "print('data=',data)\n"
      ],
      "metadata": {
        "id": "5-wlW5KgFm5I",
        "outputId": "1718e281-5b37-4b8c-b28e-297065ed11b1",
        "colab": {
          "base_uri": "https://localhost:8080/"
        }
      },
      "execution_count": null,
      "outputs": [
        {
          "output_type": "stream",
          "name": "stdout",
          "text": [
            "{'Subjects': {'Maths': 85, 'Physics': 90}}\n",
            "data= {'Subjects': {'Maths': 85, 'Physics': 90}}\n"
          ]
        }
      ]
    },
    {
      "cell_type": "code",
      "source": [
        "def average(values):\n",
        "    \"\"\"Computes the arithmetic mean of a list of numbers.\n",
        "       >>> print(average([20, 30, 70]))\n",
        "       40.0\n",
        "       \"\"\"\n",
        "    return sum(values) / len(values)\n",
        "\n",
        "s=[1,2,3,4,5,6,7,8]\n",
        "a=average(s)\n",
        "print(a)\n",
        "\n",
        "import doctest\n",
        "doctest.testmod() # automatically validate the embedded tests\n"
      ],
      "metadata": {
        "id": "bIBIHPte2Bz2",
        "outputId": "b08f72b1-bb45-4593-fbb1-ae54d18c81a1",
        "colab": {
          "base_uri": "https://localhost:8080/"
        }
      },
      "execution_count": null,
      "outputs": [
        {
          "output_type": "stream",
          "name": "stdout",
          "text": [
            "4.5\n"
          ]
        },
        {
          "output_type": "execute_result",
          "data": {
            "text/plain": [
              "TestResults(failed=0, attempted=1)"
            ]
          },
          "metadata": {},
          "execution_count": 14
        }
      ]
    },
    {
      "cell_type": "code",
      "source": [
        "min(2, 55, -66,3,20)"
      ],
      "metadata": {
        "id": "xgIv-MR5hRmb",
        "outputId": "a3c4378c-5af4-4100-82b0-3bdf8a9ad972",
        "colab": {
          "base_uri": "https://localhost:8080/"
        }
      },
      "execution_count": null,
      "outputs": [
        {
          "output_type": "execute_result",
          "data": {
            "text/plain": [
              "-66"
            ]
          },
          "metadata": {},
          "execution_count": 4
        }
      ]
    },
    {
      "cell_type": "code",
      "source": [
        "m=1\n",
        "m+=10\n",
        "print(m)\n",
        "\n",
        "m*=2\n",
        "print(m)\n",
        "\n",
        "m/=3\n",
        "print(m)\n"
      ],
      "metadata": {
        "id": "u_Xp_l9e6znb",
        "outputId": "b89bd5c8-d9ac-441e-eaa4-cedc903ec7b8",
        "colab": {
          "base_uri": "https://localhost:8080/"
        }
      },
      "execution_count": null,
      "outputs": [
        {
          "output_type": "stream",
          "name": "stdout",
          "text": [
            "11\n",
            "22\n",
            "7.333333333333333\n"
          ]
        }
      ]
    },
    {
      "cell_type": "code",
      "source": [
        "a='partha'\n",
        "for i in range(-1,-7,-1):\n",
        "    print(a[i])"
      ],
      "metadata": {
        "colab": {
          "base_uri": "https://localhost:8080/"
        },
        "id": "6okmyKZ--gv4",
        "outputId": "53cd2f5b-2651-48bf-fd05-4aa8dd582750"
      },
      "execution_count": 6,
      "outputs": [
        {
          "output_type": "stream",
          "name": "stdout",
          "text": [
            "a\n",
            "h\n",
            "t\n",
            "r\n",
            "a\n",
            "p\n"
          ]
        }
      ]
    },
    {
      "cell_type": "code",
      "source": [
        "a='ParthaSarathi Purkait'\n",
        "print(a[1:6])\n",
        "print(a.upper())\n",
        "print(a.lower())\n",
        "print(a.strip())\n",
        "print(a.find('art'))\n",
        "print(a.split())\n",
        "print(a.replace('S','s'))\n"
      ],
      "metadata": {
        "id": "U1zPN3XyAvq_",
        "outputId": "662bca81-f935-4b34-d693-26b2722e0b2d",
        "colab": {
          "base_uri": "https://localhost:8080/"
        }
      },
      "execution_count": 16,
      "outputs": [
        {
          "output_type": "stream",
          "name": "stdout",
          "text": [
            "artha\n",
            "PARTHASARATHI PURKAIT\n",
            "parthasarathi purkait\n",
            "ParthaSarathi Purkait\n",
            "1\n",
            "['ParthaSarathi', 'Purkait']\n",
            "Parthasarathi Purkait\n"
          ]
        }
      ]
    }
  ]
}