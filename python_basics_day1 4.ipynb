{
  "nbformat": 4,
  "nbformat_minor": 0,
  "metadata": {
    "colab": {
      "provenance": []
    },
    "kernelspec": {
      "name": "python3",
      "display_name": "Python 3"
    },
    "language_info": {
      "name": "python"
    }
  },
  "cells": [
    {
      "cell_type": "code",
      "execution_count": null,
      "metadata": {
        "colab": {
          "base_uri": "https://localhost:8080/"
        },
        "id": "fooBKl8FmcO4",
        "outputId": "3ea51a02-6b31-4a8e-fc8a-7c4debba94fe"
      },
      "outputs": [
        {
          "output_type": "stream",
          "name": "stdout",
          "text": [
            "welcome to Python world\n"
          ]
        }
      ],
      "source": [
        "print(\"welcome to Python world\")"
      ]
    },
    {
      "cell_type": "code",
      "source": [
        "a='py'\n",
        "b='thon2'\n",
        "c=a+b\n",
        "print(c)"
      ],
      "metadata": {
        "colab": {
          "base_uri": "https://localhost:8080/"
        },
        "id": "456iibnZml4b",
        "outputId": "1b767e87-26bb-43cd-925c-b0d5de6b7e14"
      },
      "execution_count": null,
      "outputs": [
        {
          "output_type": "stream",
          "name": "stdout",
          "text": [
            "python2\n"
          ]
        }
      ]
    },
    {
      "cell_type": "code",
      "source": [
        "a,b=0,1\n",
        "while a<10:\n",
        "  print(a, end=',')\n",
        "  a,b=b,a+b\n"
      ],
      "metadata": {
        "id": "G3BCOPFORtDr",
        "outputId": "04151828-2ec4-4c87-efbd-757cd7b577e8",
        "colab": {
          "base_uri": "https://localhost:8080/"
        }
      },
      "execution_count": null,
      "outputs": [
        {
          "output_type": "stream",
          "name": "stdout",
          "text": [
            "0,1,1,2,3,5,8,"
          ]
        }
      ]
    },
    {
      "cell_type": "code",
      "source": [
        "x=int(input(\"enter a number\"))\n",
        "if x<0:\n",
        "  print(\"Negative number\")\n",
        "elif x>0:\n",
        "  print(\"Positive Number\")\n",
        "else:\n",
        "  print(\"Zero\")\n",
        "\n"
      ],
      "metadata": {
        "id": "KUbd3inaTnK6",
        "outputId": "21ff99c3-bf57-4d72-8454-03b6a5a0d6e3",
        "colab": {
          "base_uri": "https://localhost:8080/"
        }
      },
      "execution_count": null,
      "outputs": [
        {
          "output_type": "stream",
          "name": "stdout",
          "text": [
            "enter a number-5\n",
            "Negative number\n"
          ]
        }
      ]
    },
    {
      "cell_type": "code",
      "source": [
        "for n in range(2, 10):\n",
        "    for x in range(2, n):\n",
        "        if n % x == 0:\n",
        "            print(f\"{n} equals {x} * {n//x}\")\n",
        "            break\n"
      ],
      "metadata": {
        "id": "vok4WVBdWGJ3",
        "outputId": "2622c25d-b296-43b0-d697-0c196e816242",
        "colab": {
          "base_uri": "https://localhost:8080/"
        }
      },
      "execution_count": null,
      "outputs": [
        {
          "output_type": "stream",
          "name": "stdout",
          "text": [
            "4 equals 2 * 2\n",
            "6 equals 2 * 3\n",
            "8 equals 2 * 4\n",
            "9 equals 3 * 3\n"
          ]
        }
      ]
    },
    {
      "cell_type": "code",
      "source": [
        "list(range(2,3))"
      ],
      "metadata": {
        "id": "qTHyHXhcbjES",
        "outputId": "2798f920-48e0-438c-dc30-06f3bb77898a",
        "colab": {
          "base_uri": "https://localhost:8080/"
        }
      },
      "execution_count": null,
      "outputs": [
        {
          "output_type": "execute_result",
          "data": {
            "text/plain": [
              "[2]"
            ]
          },
          "metadata": {},
          "execution_count": 26
        }
      ]
    },
    {
      "cell_type": "code",
      "source": [
        "words=['ball','bat','wicket']\n",
        "words.append('run')\n",
        "print(words)\n",
        "words.insert(2,'run')\n",
        "print(words)\n",
        "words.remove('run')\n",
        "print(words)\n",
        "words.remove('run')\n",
        "print(words)\n"
      ],
      "metadata": {
        "colab": {
          "base_uri": "https://localhost:8080/"
        },
        "id": "bSaOXCvekg4F",
        "outputId": "089e2813-fd19-4d6d-ae59-54336ef4647e"
      },
      "execution_count": 7,
      "outputs": [
        {
          "output_type": "stream",
          "name": "stdout",
          "text": [
            "['ball', 'bat', 'wicket', 'run']\n",
            "['ball', 'bat', 'run', 'wicket', 'run']\n",
            "['ball', 'bat', 'wicket', 'run']\n",
            "['ball', 'bat', 'wicket']\n"
          ]
        }
      ]
    },
    {
      "cell_type": "code",
      "source": [
        "for n in range(2, 10):\n",
        "  for x in range(2, n):\n",
        "    if n % x == 0:\n",
        "      print(n, 'equals', x, '*', n//x)\n",
        "      break\n",
        "    else:\n",
        "      # loop fell through without finding a factor\n",
        "      print(n, 'is a prime number')\n",
        "      break;\n",
        "\n"
      ],
      "metadata": {
        "colab": {
          "base_uri": "https://localhost:8080/"
        },
        "id": "E3CPNrgym1Bn",
        "outputId": "4ce6bd65-26da-4e7b-d5eb-17e3fcd655c4"
      },
      "execution_count": 20,
      "outputs": [
        {
          "output_type": "stream",
          "name": "stdout",
          "text": [
            "3 is a prime number\n",
            "4 equals 2 * 2\n",
            "5 is a prime number\n",
            "5 is a prime number\n",
            "5 is a prime number\n",
            "6 equals 2 * 3\n",
            "7 is a prime number\n",
            "7 is a prime number\n",
            "7 is a prime number\n",
            "7 is a prime number\n",
            "7 is a prime number\n",
            "8 equals 2 * 4\n",
            "9 is a prime number\n",
            "9 equals 3 * 3\n"
          ]
        }
      ]
    },
    {
      "cell_type": "code",
      "source": [
        "for n in range(2, 10):\n",
        "  for x in range(2, n):\n",
        "    if n % x == 0:\n",
        "      print(n, 'equals', x, '*', n//x)\n",
        "      break\n",
        "    else:\n",
        "      # loop fell through without finding a factor\n",
        "      print(n, 'is a prime number')\n",
        "      break;"
      ],
      "metadata": {
        "colab": {
          "base_uri": "https://localhost:8080/"
        },
        "id": "kO6HJCIEyosh",
        "outputId": "550f4ead-186b-445a-c8c7-1832e14fd03b"
      },
      "execution_count": 21,
      "outputs": [
        {
          "output_type": "stream",
          "name": "stdout",
          "text": [
            "3 is a prime number\n",
            "4 equals 2 * 2\n",
            "5 is a prime number\n",
            "6 equals 2 * 3\n",
            "7 is a prime number\n",
            "8 equals 2 * 4\n",
            "9 is a prime number\n"
          ]
        }
      ]
    },
    {
      "cell_type": "code",
      "source": [
        "for num in range(1,5):\n",
        "  odd_flag=0\n",
        "  for i in range(2,num):\n",
        "    if num % i == 0:\n",
        "      print(\"composite number\", num)\n",
        "      odd_flag=1\n",
        "      break;\n",
        "\n",
        "  if odd_flag==0:\n",
        "    print('    prime number',num)\n",
        "\n",
        ""
      ],
      "metadata": {
        "colab": {
          "base_uri": "https://localhost:8080/"
        },
        "id": "QhWN814r6xGr",
        "outputId": "d028d008-101d-4916-e28f-d06512326d79"
      },
      "execution_count": 14,
      "outputs": [
        {
          "output_type": "stream",
          "name": "stdout",
          "text": [
            "    prime number 1\n",
            "    prime number 2\n",
            "    prime number 3\n",
            "composite number 4\n"
          ]
        }
      ]
    },
    {
      "cell_type": "code",
      "source": [
        "def fib(n): # write Fibonacci series up to n\n",
        "    \"\"\"Print a Fibonacci series up to n.\"\"\"\n",
        "    a, b = 0, 1\n",
        "    while a < n:\n",
        "        print(a, end=', ')\n",
        "        a, b = b, a+b\n",
        "    ##print()\n",
        "\n",
        "fib(500)"
      ],
      "metadata": {
        "colab": {
          "base_uri": "https://localhost:8080/"
        },
        "id": "uaPmD5k32V_M",
        "outputId": "7ccf14cc-0d68-40fe-f235-13e51fee7266"
      },
      "execution_count": 19,
      "outputs": [
        {
          "output_type": "stream",
          "name": "stdout",
          "text": [
            "0, 1, 1, 2, 3, 5, 8, 13, 21, 34, 55, 89, 144, 233, 377, "
          ]
        }
      ]
    },
    {
      "cell_type": "code",
      "source": [
        "print(list(range(5)))"
      ],
      "metadata": {
        "colab": {
          "base_uri": "https://localhost:8080/"
        },
        "id": "KjJZ-mhRoFJm",
        "outputId": "7070f50f-02eb-41e7-95f9-ede3177f26a9"
      },
      "execution_count": 17,
      "outputs": [
        {
          "output_type": "stream",
          "name": "stdout",
          "text": [
            "[0, 1, 2, 3, 4]\n"
          ]
        }
      ]
    },
    {
      "cell_type": "code",
      "source": [
        "a=['cat', 'bat', 'hat']\n",
        "b=['fat', 'mat']\n",
        "a.append('rat')\n",
        "a.extend(b)\n",
        "print(a)\n",
        "#a.reverse()\n",
        "a.sort()\n",
        "print(a)"
      ],
      "metadata": {
        "colab": {
          "base_uri": "https://localhost:8080/"
        },
        "id": "7Ym2pB_tlPzF",
        "outputId": "6e6c72e4-e33f-4749-fe59-de3ef1b0f264"
      },
      "execution_count": 25,
      "outputs": [
        {
          "output_type": "stream",
          "name": "stdout",
          "text": [
            "['cat', 'bat', 'hat', 'rat', 'fat', 'mat']\n",
            "['bat', 'cat', 'fat', 'hat', 'mat', 'rat']\n"
          ]
        }
      ]
    }
  ]
}